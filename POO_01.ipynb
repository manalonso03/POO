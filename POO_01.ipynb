{
  "nbformat": 4,
  "nbformat_minor": 0,
  "metadata": {
    "colab": {
      "provenance": []
    },
    "kernelspec": {
      "name": "python3",
      "display_name": "Python 3"
    },
    "language_info": {
      "name": "python"
    }
  },
  "cells": [
    {
      "cell_type": "markdown",
      "source": [
        "# Introducción a objetos\n",
        "## Primeros objetos"
      ],
      "metadata": {
        "id": "ZG76a0raTQMv"
      }
    },
    {
      "cell_type": "markdown",
      "source": [
        "La función que identifica el tipo de objeto es la función `type`\n"
      ],
      "metadata": {
        "id": "1KIYhXTIUoo-"
      }
    },
    {
      "cell_type": "code",
      "source": [
        "type (1)"
      ],
      "metadata": {
        "id": "QOpAVBN5V6ws"
      },
      "execution_count": null,
      "outputs": []
    },
    {
      "cell_type": "markdown",
      "source": [
        "Las variables se escriben como sigue"
      ],
      "metadata": {
        "id": "jWGVIm27ViY3"
      }
    },
    {
      "cell_type": "code",
      "execution_count": 2,
      "metadata": {
        "id": "TuPEtKDBR8wr"
      },
      "outputs": [],
      "source": [
        "num =5\n",
        "saludo= \"Hola, mundo!\""
      ]
    },
    {
      "cell_type": "code",
      "source": [
        "print(num)\n",
        "print (saludo)"
      ],
      "metadata": {
        "colab": {
          "base_uri": "https://localhost:8080/"
        },
        "id": "DJKfTVLmWKfG",
        "outputId": "f0395f66-1b4a-42d9-f698-41f4b88d7b41"
      },
      "execution_count": 4,
      "outputs": [
        {
          "output_type": "stream",
          "name": "stdout",
          "text": [
            "5\n",
            "Hola, mundo!\n"
          ]
        }
      ]
    },
    {
      "cell_type": "code",
      "source": [
        "type (num)\n"
      ],
      "metadata": {
        "colab": {
          "base_uri": "https://localhost:8080/"
        },
        "id": "Pm5uKO4aW9hr",
        "outputId": "841058b3-e865-4a8e-f40c-f84189f65703"
      },
      "execution_count": 7,
      "outputs": [
        {
          "output_type": "execute_result",
          "data": {
            "text/plain": [
              "int"
            ]
          },
          "metadata": {},
          "execution_count": 7
        }
      ]
    },
    {
      "cell_type": "code",
      "source": [
        "type (saludo)"
      ],
      "metadata": {
        "colab": {
          "base_uri": "https://localhost:8080/"
        },
        "id": "z6L1UTEWXQ73",
        "outputId": "61664110-66a3-4ea9-d8a0-d29d528026bb"
      },
      "execution_count": 8,
      "outputs": [
        {
          "output_type": "execute_result",
          "data": {
            "text/plain": [
              "str"
            ]
          },
          "metadata": {},
          "execution_count": 8
        }
      ]
    },
    {
      "cell_type": "code",
      "source": [
        "# El siguiente código verifica si num y saludo son objetos iguales o diferentes.\n",
        "# El resultado arroja un valor booleano.\n",
        "type(num)==type(saludo)"
      ],
      "metadata": {
        "colab": {
          "base_uri": "https://localhost:8080/"
        },
        "id": "TY5GGsH8Xh00",
        "outputId": "c339f881-30d8-435a-85ff-5adc0c08f348"
      },
      "execution_count": 9,
      "outputs": [
        {
          "output_type": "execute_result",
          "data": {
            "text/plain": [
              "False"
            ]
          },
          "metadata": {},
          "execution_count": 9
        }
      ]
    },
    {
      "cell_type": "code",
      "source": [
        "# Convierte un int (entero) en flotante (con decimales)\n",
        "float (num)"
      ],
      "metadata": {
        "colab": {
          "base_uri": "https://localhost:8080/"
        },
        "id": "vxkjcEQVZDWT",
        "outputId": "e145c8e0-0202-4a37-8906-4f0ef583611a"
      },
      "execution_count": 11,
      "outputs": [
        {
          "output_type": "execute_result",
          "data": {
            "text/plain": [
              "5.0"
            ]
          },
          "metadata": {},
          "execution_count": 11
        }
      ]
    },
    {
      "cell_type": "code",
      "source": [
        "# Convierte un numero a un string\n",
        "str (num)"
      ],
      "metadata": {
        "colab": {
          "base_uri": "https://localhost:8080/",
          "height": 36
        },
        "id": "bFK67AAqZXSX",
        "outputId": "85ffa800-cf53-43cd-bbfa-8568d56eefc3"
      },
      "execution_count": 13,
      "outputs": [
        {
          "output_type": "execute_result",
          "data": {
            "text/plain": [
              "'5'"
            ],
            "application/vnd.google.colaboratory.intrinsic+json": {
              "type": "string"
            }
          },
          "metadata": {},
          "execution_count": 13
        }
      ]
    },
    {
      "cell_type": "code",
      "source": [
        "num_s= str (num)"
      ],
      "metadata": {
        "id": "i172whYyZu2T"
      },
      "execution_count": 15,
      "outputs": []
    },
    {
      "cell_type": "code",
      "source": [
        "type(num_s) == type(saludo)"
      ],
      "metadata": {
        "colab": {
          "base_uri": "https://localhost:8080/"
        },
        "id": "FGAATXG3aDmh",
        "outputId": "bf02b4b4-5b63-451e-b458-60a73bcf63f4"
      },
      "execution_count": 16,
      "outputs": [
        {
          "output_type": "execute_result",
          "data": {
            "text/plain": [
              "True"
            ]
          },
          "metadata": {},
          "execution_count": 16
        }
      ]
    },
    {
      "cell_type": "code",
      "source": [
        "# Los indíces en python empiezan en 0.\n",
        "# Vamos a mostrar los elementos de range (10)\n",
        "for i in range(10): print (i)"
      ],
      "metadata": {
        "colab": {
          "base_uri": "https://localhost:8080/"
        },
        "id": "v0Lcg0FQavAT",
        "outputId": "fefae6d1-c48a-4b3d-eedc-60ebdcf2e652"
      },
      "execution_count": 19,
      "outputs": [
        {
          "output_type": "stream",
          "name": "stdout",
          "text": [
            "0\n",
            "1\n",
            "2\n",
            "3\n",
            "4\n",
            "5\n",
            "6\n",
            "7\n",
            "8\n",
            "9\n"
          ]
        }
      ]
    },
    {
      "cell_type": "markdown",
      "source": [
        "Listas:\n",
        "lista_1=[el0,....,eln]"
      ],
      "metadata": {
        "id": "QHcTlnwBdBFo"
      }
    },
    {
      "cell_type": "code",
      "source": [
        "lista_1=[1,\"1\",1.0,True, [2,3]]"
      ],
      "metadata": {
        "id": "jPe0rEPJc_-K"
      },
      "execution_count": 20,
      "outputs": []
    },
    {
      "cell_type": "code",
      "source": [
        "print(lista_1)"
      ],
      "metadata": {
        "colab": {
          "base_uri": "https://localhost:8080/"
        },
        "id": "3JGzBp--eEPq",
        "outputId": "b17d070d-fb2e-4bab-d6a1-3f7b1c6585f4"
      },
      "execution_count": 21,
      "outputs": [
        {
          "output_type": "stream",
          "name": "stdout",
          "text": [
            "[1, '1', 1.0, True, [2, 3]]\n"
          ]
        }
      ]
    },
    {
      "cell_type": "code",
      "source": [
        "type(lista_1)"
      ],
      "metadata": {
        "colab": {
          "base_uri": "https://localhost:8080/"
        },
        "id": "qpOUQa2reKPm",
        "outputId": "b2007b79-0e0a-4e63-9417-6301f946222b"
      },
      "execution_count": 22,
      "outputs": [
        {
          "output_type": "execute_result",
          "data": {
            "text/plain": [
              "list"
            ]
          },
          "metadata": {},
          "execution_count": 22
        }
      ]
    },
    {
      "cell_type": "code",
      "source": [
        "lista_2= [x for x in range (10)]"
      ],
      "metadata": {
        "id": "9NwWhwgwegN2"
      },
      "execution_count": 23,
      "outputs": []
    },
    {
      "cell_type": "code",
      "source": [
        "print (lista_2)"
      ],
      "metadata": {
        "colab": {
          "base_uri": "https://localhost:8080/"
        },
        "id": "EoACn0gDes7O",
        "outputId": "8be850d9-fea0-49e2-cac5-9c40bda95c55"
      },
      "execution_count": 24,
      "outputs": [
        {
          "output_type": "stream",
          "name": "stdout",
          "text": [
            "[0, 1, 2, 3, 4, 5, 6, 7, 8, 9]\n"
          ]
        }
      ]
    }
  ]
}