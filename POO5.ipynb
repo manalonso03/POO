{
  "nbformat": 4,
  "nbformat_minor": 0,
  "metadata": {
    "colab": {
      "provenance": []
    },
    "kernelspec": {
      "name": "python3",
      "display_name": "Python 3"
    },
    "language_info": {
      "name": "python"
    }
  },
  "cells": [
    {
      "cell_type": "markdown",
      "source": [
        "# Clases, herencias y polirmorfismos."
      ],
      "metadata": {
        "id": "cakpbj8Ykd4p"
      }
    },
    {
      "cell_type": "markdown",
      "source": [
        "## Definiciones."
      ],
      "metadata": {
        "id": "9lQURc0Onnty"
      }
    },
    {
      "cell_type": "code",
      "execution_count": null,
      "metadata": {
        "id": "BKm6lt4Yj0xv"
      },
      "outputs": [],
      "source": [
        "# Vamos a crear una definición (función integrada en python)\n",
        "\n",
        "def Milanesi (a,b,c):\n",
        "  x= a + b*c\n",
        "  return x"
      ]
    },
    {
      "cell_type": "code",
      "source": [
        "Milanesi(1,2,3)"
      ],
      "metadata": {
        "colab": {
          "base_uri": "https://localhost:8080/"
        },
        "id": "VmrNejMdpPBT",
        "outputId": "a6b43c9b-4222-49e4-940f-7d05c536b2a6"
      },
      "execution_count": null,
      "outputs": [
        {
          "output_type": "execute_result",
          "data": {
            "text/plain": [
              "7"
            ]
          },
          "metadata": {},
          "execution_count": 2
        }
      ]
    },
    {
      "cell_type": "code",
      "source": [
        "# Vamos a crear una definición que calcule la inversa de una matriz.\n",
        "\n",
        "def Inv_Matrix(M):\n",
        "  import numpy as np\n",
        "\n",
        "  x= np.linalg.inv(M)\n",
        "  return x"
      ],
      "metadata": {
        "id": "bu2YaPKLpg8t"
      },
      "execution_count": null,
      "outputs": []
    },
    {
      "cell_type": "code",
      "source": [
        "import numpy as np"
      ],
      "metadata": {
        "id": "Y9Lj1Mx8ruML"
      },
      "execution_count": null,
      "outputs": []
    },
    {
      "cell_type": "code",
      "source": [
        "matriz = np.random.randint(low=1,high=100, size=(8,8))"
      ],
      "metadata": {
        "id": "s9fd7EI8q82g"
      },
      "execution_count": null,
      "outputs": []
    },
    {
      "cell_type": "code",
      "source": [
        "Inv_Matrix(matriz)"
      ],
      "metadata": {
        "colab": {
          "base_uri": "https://localhost:8080/"
        },
        "id": "CccThSr4r2tN",
        "outputId": "ac73f8d6-9918-40a3-89d2-60d14bf69d43"
      },
      "execution_count": null,
      "outputs": [
        {
          "output_type": "execute_result",
          "data": {
            "text/plain": [
              "array([[-0.01756594,  0.00754418, -0.00188176,  0.00930951,  0.00212899,\n",
              "        -0.01170763,  0.00821897,  0.01023175],\n",
              "       [ 0.01118303, -0.00168496, -0.02637902,  0.01262743,  0.03088883,\n",
              "        -0.01274944, -0.01563397,  0.00561977],\n",
              "       [ 0.00067943,  0.00512351,  0.00517669, -0.00348598,  0.00492468,\n",
              "        -0.00057038, -0.00306177, -0.00481863],\n",
              "       [ 0.00832183, -0.01145906,  0.00978849, -0.00434214, -0.00816016,\n",
              "         0.01482022, -0.00449095, -0.00418765],\n",
              "       [-0.01899238,  0.00646742, -0.0027033 , -0.01063792, -0.00407358,\n",
              "         0.02080965,  0.00412303, -0.00363135],\n",
              "       [ 0.0015235 ,  0.00051044,  0.00491384,  0.00710652, -0.00849861,\n",
              "         0.00128055,  0.00296785, -0.00419923],\n",
              "       [ 0.0100315 ,  0.00228555,  0.01003439, -0.00500044, -0.01149501,\n",
              "        -0.00754803,  0.00270878,  0.00517427],\n",
              "       [ 0.0239493 , -0.01399224, -0.00285468, -0.00247762,  0.00751046,\n",
              "        -0.007581  ,  0.00088749, -0.00210989]])"
            ]
          },
          "metadata": {},
          "execution_count": 14
        }
      ]
    },
    {
      "cell_type": "code",
      "source": [],
      "metadata": {
        "id": "ip6r1EQfteYn"
      },
      "execution_count": null,
      "outputs": []
    }
  ]
}