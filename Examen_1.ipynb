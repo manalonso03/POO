{
  "nbformat": 4,
  "nbformat_minor": 0,
  "metadata": {
    "colab": {
      "provenance": []
    },
    "kernelspec": {
      "name": "python3",
      "display_name": "Python 3"
    },
    "language_info": {
      "name": "python"
    }
  },
  "cells": [
    {
      "cell_type": "markdown",
      "source": [
        "# Examen 1\n"
      ],
      "metadata": {
        "id": "2BCGcEcceEwE"
      }
    },
    {
      "cell_type": "code",
      "execution_count": null,
      "metadata": {
        "id": "ul0SgTZIeBRu"
      },
      "outputs": [],
      "source": [
        "import numpy as np\n",
        "import pandas as pd"
      ]
    },
    {
      "cell_type": "code",
      "source": [
        "# Pregunta 1\n",
        "x = np.arange(10)\n",
        "\n",
        "\n"
      ],
      "metadata": {
        "id": "ZAAayzq8eYRr"
      },
      "execution_count": null,
      "outputs": []
    },
    {
      "cell_type": "code",
      "source": [
        "# Pregunta 2\n",
        "seg = x[4:8]\n",
        "print(seg)\n",
        "#Aqui llamamos seg a la segmentación de los valores de x, siendo del 4 al 7, con el print obtenemos lo que queremos."
      ],
      "metadata": {
        "colab": {
          "base_uri": "https://localhost:8080/"
        },
        "id": "P-YVJhbBfiGw",
        "outputId": "de8d77f9-f2d7-443c-cca1-92f709be2945"
      },
      "execution_count": null,
      "outputs": [
        {
          "output_type": "stream",
          "name": "stdout",
          "text": [
            "[4 5 6 7]\n"
          ]
        }
      ]
    },
    {
      "cell_type": "code",
      "source": [
        "# Pregunta 3\n",
        "x1, x2, x3 = np.split(x, [3,6])\n",
        "print(x1)\n",
        "print(x2)\n",
        "print(x3)\n",
        "# El x1 da los primeros tres numeros, el x2 da los siguientes tres numeros, y el x3 da los ultimos 4 numeros."
      ],
      "metadata": {
        "colab": {
          "base_uri": "https://localhost:8080/"
        },
        "id": "byLWuwCQe60z",
        "outputId": "2621ff70-c837-47af-ffdc-d2de270ad7fc"
      },
      "execution_count": null,
      "outputs": [
        {
          "output_type": "stream",
          "name": "stdout",
          "text": [
            "[0 1 2]\n",
            "[3 4 5]\n",
            "[6 7 8 9]\n"
          ]
        }
      ]
    },
    {
      "cell_type": "code",
      "source": [
        "# Pregunta 4\n",
        "data = pd.DataFrame({'Country':['Russia', 'Colombia', 'Chile', 'Equador', 'Nigeria'],'Rank':[121, 40, 100, 130, 11]})\n"
      ],
      "metadata": {
        "id": "N4MjQER7fvWj"
      },
      "execution_count": null,
      "outputs": []
    },
    {
      "cell_type": "code",
      "source": [
        "# Pregunta 5\n",
        "data.info()\n",
        "# Los valores que se muestran con la función info del data frame anterior es información sobre el mismo. En este caso nos señala que hay 5 valores para Country como para Rank,\n",
        "#lo cual se divide en 2 columnas(\"Country\" y \"Rank\")"
      ],
      "metadata": {
        "colab": {
          "base_uri": "https://localhost:8080/"
        },
        "id": "xzXriTGehNzk",
        "outputId": "6b861454-091b-4663-f89d-8d08986c1423"
      },
      "execution_count": null,
      "outputs": [
        {
          "output_type": "stream",
          "name": "stdout",
          "text": [
            "<class 'pandas.core.frame.DataFrame'>\n",
            "RangeIndex: 5 entries, 0 to 4\n",
            "Data columns (total 2 columns):\n",
            " #   Column   Non-Null Count  Dtype \n",
            "---  ------   --------------  ----- \n",
            " 0   Country  5 non-null      object\n",
            " 1   Rank     5 non-null      int64 \n",
            "dtypes: int64(1), object(1)\n",
            "memory usage: 208.0+ bytes\n"
          ]
        }
      ]
    },
    {
      "cell_type": "code",
      "source": [
        "# Pregunta 6\n",
        "data_2 = pd.DataFrame({'k1':['one']*3 + ['two']*4, 'k2':[3,2,1,3,3,4,4]})\n",
        "# a) Se esta creando un diccionario de dos columnas, en los valores de las llaves se le estan dando atributos a k1 y a K2.\n",
        "# Donde para k1 se repetira la palabra one tres veces y la palabra two cuatro veces. Y para k2 se daran los valores que aparecen entre corchetes."
      ],
      "metadata": {
        "id": "Q5WVFD-eiMJX"
      },
      "execution_count": null,
      "outputs": []
    },
    {
      "cell_type": "code",
      "source": [
        "# Pregunta 6b\n",
        "print(data_2)\n",
        "# con la función print(data_2) obtenemos el dicciónario antes explicado."
      ],
      "metadata": {
        "colab": {
          "base_uri": "https://localhost:8080/"
        },
        "id": "lG0Q0FkxiR79",
        "outputId": "ab494c37-d62e-4f8c-853b-606ab8034680"
      },
      "execution_count": null,
      "outputs": [
        {
          "output_type": "stream",
          "name": "stdout",
          "text": [
            "    k1  k2\n",
            "0  one   3\n",
            "1  one   2\n",
            "2  one   1\n",
            "3  two   3\n",
            "4  two   3\n",
            "5  two   4\n",
            "6  two   4\n"
          ]
        }
      ]
    },
    {
      "cell_type": "code",
      "source": [
        "# Pregunta 7\n",
        "# El atributo drop_duplicate() sirve para quitar filas que se encuentren mas de una vez dentro de un dataframe o diccionario, para así quedarse con una sola fila con esos valores."
      ],
      "metadata": {
        "id": "uYrsFqTWjykg"
      },
      "execution_count": null,
      "outputs": []
    },
    {
      "cell_type": "code",
      "source": [
        "# Pregunta 8\n",
        "data_3 = pd.DataFrame(np.arange(12).reshape((3, 4)),index=['CDMX', 'Guanajuato', 'Puebla'],columns=['uno', 'dos', 'tres', 'cuatro'])\n",
        "print(data_3)\n",
        "# Data_3 es un dataframe obtenido con pandas con distintos valores. Primero el np.arrange(12) nos da valores del 0 al 11. Con el reshape(3,4) se nos dice que la tabla o matriz sera de 3x4.\n",
        "# El index nos da los nombres que apareceran en la filas (3), mientras que columns nos da los nombres de las columnas (4)"
      ],
      "metadata": {
        "colab": {
          "base_uri": "https://localhost:8080/"
        },
        "id": "YKd-FdSJkarR",
        "outputId": "c76dcfb4-9f96-45ee-96b2-5a2f24a4647a"
      },
      "execution_count": null,
      "outputs": [
        {
          "output_type": "stream",
          "name": "stdout",
          "text": [
            "            uno  dos  tres  cuatro\n",
            "CDMX          0    1     2       3\n",
            "Guanajuato    4    5     6       7\n",
            "Puebla        8    9    10      11\n"
          ]
        }
      ]
    },
    {
      "cell_type": "code",
      "source": [
        "# Pregunta 9\n",
        "data_3.rename(index={'CDMX':'Monterrey', 'Guanajuato':'Guadalajara', 'Puebla': 'Cholula'})\n",
        "# Con la función rename, renombramos los nombres de las flias, cambiando CDMX por Monterrey, Guanajuato por Guadalajara y Puebla por Cholula"
      ],
      "metadata": {
        "colab": {
          "base_uri": "https://localhost:8080/",
          "height": 143
        },
        "id": "TP0Gjz9yl8U3",
        "outputId": "1897759b-d639-4d3b-acff-0759994d8409"
      },
      "execution_count": null,
      "outputs": [
        {
          "output_type": "execute_result",
          "data": {
            "text/plain": [
              "             uno  dos  tres  cuatro\n",
              "Monterrey      0    1     2       3\n",
              "Guadalajara    4    5     6       7\n",
              "Cholula        8    9    10      11"
            ],
            "text/html": [
              "\n",
              "  <div id=\"df-ace2d31f-fec7-4939-a3bb-4116ef059553\" class=\"colab-df-container\">\n",
              "    <div>\n",
              "<style scoped>\n",
              "    .dataframe tbody tr th:only-of-type {\n",
              "        vertical-align: middle;\n",
              "    }\n",
              "\n",
              "    .dataframe tbody tr th {\n",
              "        vertical-align: top;\n",
              "    }\n",
              "\n",
              "    .dataframe thead th {\n",
              "        text-align: right;\n",
              "    }\n",
              "</style>\n",
              "<table border=\"1\" class=\"dataframe\">\n",
              "  <thead>\n",
              "    <tr style=\"text-align: right;\">\n",
              "      <th></th>\n",
              "      <th>uno</th>\n",
              "      <th>dos</th>\n",
              "      <th>tres</th>\n",
              "      <th>cuatro</th>\n",
              "    </tr>\n",
              "  </thead>\n",
              "  <tbody>\n",
              "    <tr>\n",
              "      <th>Monterrey</th>\n",
              "      <td>0</td>\n",
              "      <td>1</td>\n",
              "      <td>2</td>\n",
              "      <td>3</td>\n",
              "    </tr>\n",
              "    <tr>\n",
              "      <th>Guadalajara</th>\n",
              "      <td>4</td>\n",
              "      <td>5</td>\n",
              "      <td>6</td>\n",
              "      <td>7</td>\n",
              "    </tr>\n",
              "    <tr>\n",
              "      <th>Cholula</th>\n",
              "      <td>8</td>\n",
              "      <td>9</td>\n",
              "      <td>10</td>\n",
              "      <td>11</td>\n",
              "    </tr>\n",
              "  </tbody>\n",
              "</table>\n",
              "</div>\n",
              "    <div class=\"colab-df-buttons\">\n",
              "\n",
              "  <div class=\"colab-df-container\">\n",
              "    <button class=\"colab-df-convert\" onclick=\"convertToInteractive('df-ace2d31f-fec7-4939-a3bb-4116ef059553')\"\n",
              "            title=\"Convert this dataframe to an interactive table.\"\n",
              "            style=\"display:none;\">\n",
              "\n",
              "  <svg xmlns=\"http://www.w3.org/2000/svg\" height=\"24px\" viewBox=\"0 -960 960 960\">\n",
              "    <path d=\"M120-120v-720h720v720H120Zm60-500h600v-160H180v160Zm220 220h160v-160H400v160Zm0 220h160v-160H400v160ZM180-400h160v-160H180v160Zm440 0h160v-160H620v160ZM180-180h160v-160H180v160Zm440 0h160v-160H620v160Z\"/>\n",
              "  </svg>\n",
              "    </button>\n",
              "\n",
              "  <style>\n",
              "    .colab-df-container {\n",
              "      display:flex;\n",
              "      gap: 12px;\n",
              "    }\n",
              "\n",
              "    .colab-df-convert {\n",
              "      background-color: #E8F0FE;\n",
              "      border: none;\n",
              "      border-radius: 50%;\n",
              "      cursor: pointer;\n",
              "      display: none;\n",
              "      fill: #1967D2;\n",
              "      height: 32px;\n",
              "      padding: 0 0 0 0;\n",
              "      width: 32px;\n",
              "    }\n",
              "\n",
              "    .colab-df-convert:hover {\n",
              "      background-color: #E2EBFA;\n",
              "      box-shadow: 0px 1px 2px rgba(60, 64, 67, 0.3), 0px 1px 3px 1px rgba(60, 64, 67, 0.15);\n",
              "      fill: #174EA6;\n",
              "    }\n",
              "\n",
              "    .colab-df-buttons div {\n",
              "      margin-bottom: 4px;\n",
              "    }\n",
              "\n",
              "    [theme=dark] .colab-df-convert {\n",
              "      background-color: #3B4455;\n",
              "      fill: #D2E3FC;\n",
              "    }\n",
              "\n",
              "    [theme=dark] .colab-df-convert:hover {\n",
              "      background-color: #434B5C;\n",
              "      box-shadow: 0px 1px 3px 1px rgba(0, 0, 0, 0.15);\n",
              "      filter: drop-shadow(0px 1px 2px rgba(0, 0, 0, 0.3));\n",
              "      fill: #FFFFFF;\n",
              "    }\n",
              "  </style>\n",
              "\n",
              "    <script>\n",
              "      const buttonEl =\n",
              "        document.querySelector('#df-ace2d31f-fec7-4939-a3bb-4116ef059553 button.colab-df-convert');\n",
              "      buttonEl.style.display =\n",
              "        google.colab.kernel.accessAllowed ? 'block' : 'none';\n",
              "\n",
              "      async function convertToInteractive(key) {\n",
              "        const element = document.querySelector('#df-ace2d31f-fec7-4939-a3bb-4116ef059553');\n",
              "        const dataTable =\n",
              "          await google.colab.kernel.invokeFunction('convertToInteractive',\n",
              "                                                    [key], {});\n",
              "        if (!dataTable) return;\n",
              "\n",
              "        const docLinkHtml = 'Like what you see? Visit the ' +\n",
              "          '<a target=\"_blank\" href=https://colab.research.google.com/notebooks/data_table.ipynb>data table notebook</a>'\n",
              "          + ' to learn more about interactive tables.';\n",
              "        element.innerHTML = '';\n",
              "        dataTable['output_type'] = 'display_data';\n",
              "        await google.colab.output.renderOutput(dataTable, element);\n",
              "        const docLink = document.createElement('div');\n",
              "        docLink.innerHTML = docLinkHtml;\n",
              "        element.appendChild(docLink);\n",
              "      }\n",
              "    </script>\n",
              "  </div>\n",
              "\n",
              "\n",
              "<div id=\"df-a9496710-3a01-4a17-9516-d3494e29143e\">\n",
              "  <button class=\"colab-df-quickchart\" onclick=\"quickchart('df-a9496710-3a01-4a17-9516-d3494e29143e')\"\n",
              "            title=\"Suggest charts.\"\n",
              "            style=\"display:none;\">\n",
              "\n",
              "<svg xmlns=\"http://www.w3.org/2000/svg\" height=\"24px\"viewBox=\"0 0 24 24\"\n",
              "     width=\"24px\">\n",
              "    <g>\n",
              "        <path d=\"M19 3H5c-1.1 0-2 .9-2 2v14c0 1.1.9 2 2 2h14c1.1 0 2-.9 2-2V5c0-1.1-.9-2-2-2zM9 17H7v-7h2v7zm4 0h-2V7h2v10zm4 0h-2v-4h2v4z\"/>\n",
              "    </g>\n",
              "</svg>\n",
              "  </button>\n",
              "\n",
              "<style>\n",
              "  .colab-df-quickchart {\n",
              "      --bg-color: #E8F0FE;\n",
              "      --fill-color: #1967D2;\n",
              "      --hover-bg-color: #E2EBFA;\n",
              "      --hover-fill-color: #174EA6;\n",
              "      --disabled-fill-color: #AAA;\n",
              "      --disabled-bg-color: #DDD;\n",
              "  }\n",
              "\n",
              "  [theme=dark] .colab-df-quickchart {\n",
              "      --bg-color: #3B4455;\n",
              "      --fill-color: #D2E3FC;\n",
              "      --hover-bg-color: #434B5C;\n",
              "      --hover-fill-color: #FFFFFF;\n",
              "      --disabled-bg-color: #3B4455;\n",
              "      --disabled-fill-color: #666;\n",
              "  }\n",
              "\n",
              "  .colab-df-quickchart {\n",
              "    background-color: var(--bg-color);\n",
              "    border: none;\n",
              "    border-radius: 50%;\n",
              "    cursor: pointer;\n",
              "    display: none;\n",
              "    fill: var(--fill-color);\n",
              "    height: 32px;\n",
              "    padding: 0;\n",
              "    width: 32px;\n",
              "  }\n",
              "\n",
              "  .colab-df-quickchart:hover {\n",
              "    background-color: var(--hover-bg-color);\n",
              "    box-shadow: 0 1px 2px rgba(60, 64, 67, 0.3), 0 1px 3px 1px rgba(60, 64, 67, 0.15);\n",
              "    fill: var(--button-hover-fill-color);\n",
              "  }\n",
              "\n",
              "  .colab-df-quickchart-complete:disabled,\n",
              "  .colab-df-quickchart-complete:disabled:hover {\n",
              "    background-color: var(--disabled-bg-color);\n",
              "    fill: var(--disabled-fill-color);\n",
              "    box-shadow: none;\n",
              "  }\n",
              "\n",
              "  .colab-df-spinner {\n",
              "    border: 2px solid var(--fill-color);\n",
              "    border-color: transparent;\n",
              "    border-bottom-color: var(--fill-color);\n",
              "    animation:\n",
              "      spin 1s steps(1) infinite;\n",
              "  }\n",
              "\n",
              "  @keyframes spin {\n",
              "    0% {\n",
              "      border-color: transparent;\n",
              "      border-bottom-color: var(--fill-color);\n",
              "      border-left-color: var(--fill-color);\n",
              "    }\n",
              "    20% {\n",
              "      border-color: transparent;\n",
              "      border-left-color: var(--fill-color);\n",
              "      border-top-color: var(--fill-color);\n",
              "    }\n",
              "    30% {\n",
              "      border-color: transparent;\n",
              "      border-left-color: var(--fill-color);\n",
              "      border-top-color: var(--fill-color);\n",
              "      border-right-color: var(--fill-color);\n",
              "    }\n",
              "    40% {\n",
              "      border-color: transparent;\n",
              "      border-right-color: var(--fill-color);\n",
              "      border-top-color: var(--fill-color);\n",
              "    }\n",
              "    60% {\n",
              "      border-color: transparent;\n",
              "      border-right-color: var(--fill-color);\n",
              "    }\n",
              "    80% {\n",
              "      border-color: transparent;\n",
              "      border-right-color: var(--fill-color);\n",
              "      border-bottom-color: var(--fill-color);\n",
              "    }\n",
              "    90% {\n",
              "      border-color: transparent;\n",
              "      border-bottom-color: var(--fill-color);\n",
              "    }\n",
              "  }\n",
              "</style>\n",
              "\n",
              "  <script>\n",
              "    async function quickchart(key) {\n",
              "      const quickchartButtonEl =\n",
              "        document.querySelector('#' + key + ' button');\n",
              "      quickchartButtonEl.disabled = true;  // To prevent multiple clicks.\n",
              "      quickchartButtonEl.classList.add('colab-df-spinner');\n",
              "      try {\n",
              "        const charts = await google.colab.kernel.invokeFunction(\n",
              "            'suggestCharts', [key], {});\n",
              "      } catch (error) {\n",
              "        console.error('Error during call to suggestCharts:', error);\n",
              "      }\n",
              "      quickchartButtonEl.classList.remove('colab-df-spinner');\n",
              "      quickchartButtonEl.classList.add('colab-df-quickchart-complete');\n",
              "    }\n",
              "    (() => {\n",
              "      let quickchartButtonEl =\n",
              "        document.querySelector('#df-a9496710-3a01-4a17-9516-d3494e29143e button');\n",
              "      quickchartButtonEl.style.display =\n",
              "        google.colab.kernel.accessAllowed ? 'block' : 'none';\n",
              "    })();\n",
              "  </script>\n",
              "</div>\n",
              "    </div>\n",
              "  </div>\n"
            ]
          },
          "metadata": {},
          "execution_count": 93
        }
      ]
    },
    {
      "cell_type": "code",
      "source": [
        "# Pregunta 10\n",
        "df = pd.DataFrame({'key1' : ['a', 'a', 'b', 'b', 'a'], 'key2' : ['one', 'two', 'one', 'two', 'one'], 'data1' : np.random.randn(5),'data2' : np.random.randn(5)})\n",
        "# El siguiente código es un dataframe obtenido con pandas, el cual tiene dos columnas con valores string (\"key1\", \"key2\") y dos columnas con valores numericos usando numpy(\"data 1\", \"data 2\").\n",
        "# Las columnas Key 1 y Key 2 arrogaran sus valores que tienen, mientras que data 1 y data 2 arrogaran numeros aleatorios gracias a la funcion random.randn\n",
        "print(df)"
      ],
      "metadata": {
        "colab": {
          "base_uri": "https://localhost:8080/"
        },
        "id": "63RVI_41nxmp",
        "outputId": "511a8eb6-3a5e-4c39-ed8b-c4871037547e"
      },
      "execution_count": null,
      "outputs": [
        {
          "output_type": "stream",
          "name": "stdout",
          "text": [
            "  key1 key2     data1     data2\n",
            "0    a  one  0.445131  0.243876\n",
            "1    a  two -0.423257 -0.488980\n",
            "2    b  one  0.288721 -0.728526\n",
            "3    b  two  0.874279 -0.725258\n",
            "4    a  one -0.413663  1.682805\n"
          ]
        }
      ]
    },
    {
      "cell_type": "code",
      "source": [
        "# Pregunta 10 continuación\n",
        "# a) A continuación quitaremos la columna key 2 con la función drop.\n",
        "\n",
        "df = pd.DataFrame({'key1' : ['a', 'a', 'b', 'b', 'a'], 'key2' : ['one', 'two', 'one', 'two', 'one'], 'data1' : np.random.randn(5),'data2' : np.random.randn(5)})\n",
        "df = df.drop(columns='key2')\n",
        "\n",
        "print(df)\n"
      ],
      "metadata": {
        "colab": {
          "base_uri": "https://localhost:8080/"
        },
        "id": "Sv0IGglqp0Nn",
        "outputId": "75c2ceda-5fe2-4f3c-8947-e35343ce2aee"
      },
      "execution_count": null,
      "outputs": [
        {
          "output_type": "stream",
          "name": "stdout",
          "text": [
            "  key1     data1     data2\n",
            "0    a  0.332141 -0.078546\n",
            "1    a -0.678773 -0.505873\n",
            "2    b -0.560453  0.600250\n",
            "3    b  1.382500  0.170237\n",
            "4    a  0.424952  1.088343\n"
          ]
        }
      ]
    },
    {
      "cell_type": "code",
      "source": [
        "#Pregunta 10 b\n",
        "# Con la función set_index cambiamos key al indice\n",
        "df = pd.DataFrame({'key1' : ['a', 'a', 'b', 'b', 'a'], 'key2' : ['one', 'two', 'one', 'two', 'one'], 'data1' : np.random.randn(5),'data2' : np.random.randn(5)})\n",
        "df=df.set_index('key1')\n",
        "print(df)"
      ],
      "metadata": {
        "colab": {
          "base_uri": "https://localhost:8080/"
        },
        "id": "OG837XJttbPw",
        "outputId": "87a720ee-54ad-4337-9f56-ea20410246ff"
      },
      "execution_count": null,
      "outputs": [
        {
          "output_type": "stream",
          "name": "stdout",
          "text": [
            "     key2     data1     data2\n",
            "key1                         \n",
            "a     one  0.250139 -0.688260\n",
            "a     two  0.593564 -2.319582\n",
            "b     one -0.555723  0.593508\n",
            "b     two -1.126452  0.105278\n",
            "a     one  0.445142 -0.037802\n"
          ]
        }
      ]
    },
    {
      "cell_type": "code",
      "source": [
        "# Pregunta 10c\n",
        "#Con la funcón describe() nos describe diferentes datos que arroga el data frame.\n",
        "descripcion = df.describe()\n",
        "print(descripcion)"
      ],
      "metadata": {
        "colab": {
          "base_uri": "https://localhost:8080/"
        },
        "id": "y0to4QPKtkKb",
        "outputId": "6d571fd5-e035-47aa-ec8d-32bbd59c7ac5"
      },
      "execution_count": null,
      "outputs": [
        {
          "output_type": "stream",
          "name": "stdout",
          "text": [
            "          data1     data2\n",
            "count  5.000000  5.000000\n",
            "mean  -0.078666 -0.469372\n",
            "std    0.734816  1.131081\n",
            "min   -1.126452 -2.319582\n",
            "25%   -0.555723 -0.688260\n",
            "50%    0.250139 -0.037802\n",
            "75%    0.445142  0.105278\n",
            "max    0.593564  0.593508\n"
          ]
        }
      ]
    },
    {
      "cell_type": "code",
      "source": [
        "# Pregunta 10 d\n",
        "#Con la función mean se nos da la media de las columnas sobrantes del dataframe\n",
        "med = df.mean()\n",
        "print(med)"
      ],
      "metadata": {
        "colab": {
          "base_uri": "https://localhost:8080/"
        },
        "id": "tl4Aak87uVHs",
        "outputId": "9b01876c-71c8-48ca-e0f2-04aed83a3bc7"
      },
      "execution_count": null,
      "outputs": [
        {
          "output_type": "stream",
          "name": "stdout",
          "text": [
            "data1   -0.078666\n",
            "data2   -0.469372\n",
            "dtype: float64\n"
          ]
        },
        {
          "output_type": "stream",
          "name": "stderr",
          "text": [
            "<ipython-input-98-3ba1654da973>:3: FutureWarning: The default value of numeric_only in DataFrame.mean is deprecated. In a future version, it will default to False. In addition, specifying 'numeric_only=None' is deprecated. Select only valid columns or specify the value of numeric_only to silence this warning.\n",
            "  med = df.mean()\n"
          ]
        }
      ]
    }
  ]
}