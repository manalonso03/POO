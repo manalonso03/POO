{
  "nbformat": 4,
  "nbformat_minor": 0,
  "metadata": {
    "colab": {
      "provenance": []
    },
    "kernelspec": {
      "name": "python3",
      "display_name": "Python 3"
    },
    "language_info": {
      "name": "python"
    }
  },
  "cells": [
    {
      "cell_type": "markdown",
      "source": [
        "# Condicionales: If...elif...else"
      ],
      "metadata": {
        "id": "3wQTS4DtcEqo"
      }
    },
    {
      "cell_type": "code",
      "execution_count": null,
      "metadata": {
        "colab": {
          "base_uri": "https://localhost:8080/"
        },
        "id": "Rk9mYrhtcA09",
        "outputId": "0106ce06-5b71-4b05-dabb-438c82847b60"
      },
      "outputs": [
        {
          "output_type": "stream",
          "name": "stdout",
          "text": [
            "La letra es A\n"
          ]
        }
      ],
      "source": [
        "letra = \"A\"\n",
        "\n",
        "if letra == \"B\":\n",
        "  print(\"La letra es B\")\n",
        "elif letra == \"C\":\n",
        "  print(\"La letra es C\")\n",
        "elif letra == \"A\":\n",
        "  print(\"La letra es A\")\n",
        "else:\n",
        "  print(\"La letra no es A ni B ni C\")\n"
      ]
    },
    {
      "cell_type": "markdown",
      "source": [
        "### Ejemplo 2"
      ],
      "metadata": {
        "id": "MdsNSc5IdXIg"
      }
    },
    {
      "cell_type": "code",
      "source": [
        "numero = int(input(\"Escribe un número \"))"
      ],
      "metadata": {
        "colab": {
          "base_uri": "https://localhost:8080/"
        },
        "id": "nQ1QzbXYdchf",
        "outputId": "06291bfa-d7aa-47fa-b63e-b06a1d77d8c6"
      },
      "execution_count": null,
      "outputs": [
        {
          "name": "stdout",
          "output_type": "stream",
          "text": [
            "Escribe un número 6\n"
          ]
        }
      ]
    },
    {
      "cell_type": "code",
      "source": [
        "if numero % 2 == 0 and numero % 4 != 0:\n",
        "  print(f\"{numero} es múltiplo de dos\")\n",
        "elif numero % 4 == 0:\n",
        "  print(f\"{numero} es múltiplo de cuatro y de dos\")\n",
        "else:\n",
        "  print(f\"{numero} no es multiplo de dos\")"
      ],
      "metadata": {
        "colab": {
          "base_uri": "https://localhost:8080/"
        },
        "id": "S5b4zmtmeAmV",
        "outputId": "0f0c544d-3eca-4d49-c641-9c4bac662013"
      },
      "execution_count": null,
      "outputs": [
        {
          "output_type": "stream",
          "name": "stdout",
          "text": [
            "6 es múltiplo de dos\n"
          ]
        }
      ]
    },
    {
      "cell_type": "markdown",
      "source": [
        "#### Ejemplo Propio"
      ],
      "metadata": {
        "id": "zcHnZGdgiUwc"
      }
    },
    {
      "cell_type": "code",
      "source": [
        "puntos = int(input(\"Escribe los puntos del equipo \"))"
      ],
      "metadata": {
        "colab": {
          "base_uri": "https://localhost:8080/"
        },
        "id": "TExH_0BOg6wF",
        "outputId": "524cb482-a0cc-4998-8f27-203d14cc60c3"
      },
      "execution_count": null,
      "outputs": [
        {
          "name": "stdout",
          "output_type": "stream",
          "text": [
            "Escribe los puntos del equipo 30\n"
          ]
        }
      ]
    },
    {
      "cell_type": "code",
      "source": [
        "if puntos > 37 and puntos < 90:\n",
        "  print(f\"{puntos} el equipo no descendio, pero no gano la liga\")\n",
        "elif puntos> 90:\n",
        "  print(f\"{puntos} el equipo gano la liga\")\n",
        "else:\n",
        "  print(f\"{puntos} el equipo descendio\")"
      ],
      "metadata": {
        "colab": {
          "base_uri": "https://localhost:8080/"
        },
        "id": "TTc8mhPhhFkL",
        "outputId": "a015d429-26b9-4472-c5c4-8c73c681edd1"
      },
      "execution_count": null,
      "outputs": [
        {
          "output_type": "stream",
          "name": "stdout",
          "text": [
            "30 el equipo descendio\n"
          ]
        }
      ]
    },
    {
      "cell_type": "markdown",
      "source": [
        "# Clases y Polimorfismos"
      ],
      "metadata": {
        "id": "ro4LAT6GkmcK"
      }
    },
    {
      "cell_type": "code",
      "source": [
        "class Mascota:\n",
        "  def hable(self):\n",
        "    return NotImplementedError\n",
        "class Perro(Mascota):\n",
        "  def hable(self):\n",
        "    return \"Woof\"\n",
        "class Gato(Mascota):\n",
        "  def hable(self):\n",
        "    return \"Miauh\""
      ],
      "metadata": {
        "id": "dUvfEyDAkzFZ"
      },
      "execution_count": null,
      "outputs": []
    },
    {
      "cell_type": "code",
      "source": [
        "# Vamos a crear una lista de mascotas\n",
        "mascotas = [Perro(), Gato()]"
      ],
      "metadata": {
        "id": "B2n7AxRgoL8F"
      },
      "execution_count": null,
      "outputs": []
    },
    {
      "cell_type": "code",
      "source": [
        "for mascota in mascotas:\n",
        "  print(mascota.hable())"
      ],
      "metadata": {
        "colab": {
          "base_uri": "https://localhost:8080/"
        },
        "id": "zOQI6wYRocat",
        "outputId": "6fb9e841-441b-46b1-fc29-cf2ea770d950"
      },
      "execution_count": null,
      "outputs": [
        {
          "output_type": "stream",
          "name": "stdout",
          "text": [
            "Woof\n",
            "Miauh\n"
          ]
        }
      ]
    },
    {
      "cell_type": "code",
      "source": [
        "class Mascota:\n",
        "  def hable(self):\n",
        "    return NotImplementedError\n",
        "class Cabra(Mascota):\n",
        "  def hable(self):\n",
        "    return \"Meeeh\"\n",
        "class Cerdo(Mascota):\n",
        "  def hable(self):\n",
        "    return \"Oinkoink\""
      ],
      "metadata": {
        "id": "6BkoRUK9pwQ8"
      },
      "execution_count": null,
      "outputs": []
    },
    {
      "cell_type": "code",
      "source": [
        "mascotas = [Cabra(), Cerdo()]"
      ],
      "metadata": {
        "id": "u9S56BCzp_k6"
      },
      "execution_count": null,
      "outputs": []
    },
    {
      "cell_type": "code",
      "source": [
        "for mascota in mascotas:\n",
        "  print(mascota.hable())"
      ],
      "metadata": {
        "colab": {
          "base_uri": "https://localhost:8080/"
        },
        "id": "Xt6mQ0kbqHBI",
        "outputId": "c7d7deb8-c43e-48da-89df-441eadb3476f"
      },
      "execution_count": null,
      "outputs": [
        {
          "output_type": "stream",
          "name": "stdout",
          "text": [
            "Meeeh\n",
            "Oinkoink\n"
          ]
        }
      ]
    },
    {
      "cell_type": "code",
      "source": [
        "class Persona:\n",
        "  def __init__ (self, nombre, edad):\n",
        "     self.nombre = nombre\n",
        "     self.edad = edad\n"
      ],
      "metadata": {
        "id": "o6bgTKetrC3m"
      },
      "execution_count": null,
      "outputs": []
    },
    {
      "cell_type": "code",
      "source": [
        "Daniela = Persona(\"Daniela\", 21)"
      ],
      "metadata": {
        "id": "-SdkzpAKrqo2"
      },
      "execution_count": null,
      "outputs": []
    },
    {
      "cell_type": "code",
      "source": [
        "Daniela.nombre"
      ],
      "metadata": {
        "colab": {
          "base_uri": "https://localhost:8080/",
          "height": 35
        },
        "id": "8Fb-Pi5jrwqF",
        "outputId": "4810ee03-6057-4730-d133-cdfc053bd250"
      },
      "execution_count": null,
      "outputs": [
        {
          "output_type": "execute_result",
          "data": {
            "text/plain": [
              "'Daniela'"
            ],
            "application/vnd.google.colaboratory.intrinsic+json": {
              "type": "string"
            }
          },
          "metadata": {},
          "execution_count": 15
        }
      ]
    },
    {
      "cell_type": "code",
      "source": [
        "Daniela.edad"
      ],
      "metadata": {
        "colab": {
          "base_uri": "https://localhost:8080/"
        },
        "id": "FEYP3cVSrzft",
        "outputId": "5220acbe-fd3b-421a-9daa-2170b3942183"
      },
      "execution_count": null,
      "outputs": [
        {
          "output_type": "execute_result",
          "data": {
            "text/plain": [
              "21"
            ]
          },
          "metadata": {},
          "execution_count": 16
        }
      ]
    }
  ]
}