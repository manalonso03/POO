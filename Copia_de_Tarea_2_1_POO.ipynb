{
  "nbformat": 4,
  "nbformat_minor": 0,
  "metadata": {
    "colab": {
      "provenance": []
    },
    "kernelspec": {
      "name": "python3",
      "display_name": "Python 3"
    },
    "language_info": {
      "name": "python"
    }
  },
  "cells": [
    {
      "cell_type": "markdown",
      "source": [
        "## Tarea\n",
        "### Instrucciones:\n",
        "\n",
        "\n",
        "*   La tarea se entrega individualmente.\n",
        "*   Leer los lineamientos e instrucciones que se enuentran en Moodle.\n",
        "*   Sube tu Notebook a tu GitHub\n",
        "*  La entrega se hace por Moodle compartiendo tu liga a GitHub.\n",
        "*  Fecha de entrega  **Martes 26 de septiembre antes de las 20:00hrs**\n",
        "*  Si existiera duda alguna, mandarlas por email.\n",
        "\n"
      ],
      "metadata": {
        "id": "-DR7LcQd27OM"
      }
    },
    {
      "cell_type": "markdown",
      "source": [
        "# Manuel Alonso y Emiliano Trueba"
      ],
      "metadata": {
        "id": "7G2Xkvph-koX"
      }
    },
    {
      "cell_type": "code",
      "source": [
        "# Crea una clase que se llame Animal\n",
        "class Animal():\n",
        "# define un inicializador que contenga dos argumentos (a y b) que asignarás\n",
        "    def __init__(self, nombre, tipo):\n",
        "      self.nombre= nombre\n",
        "      self.tipo= tipo\n",
        "#definimos el inicializador con los argumentos nombre y tipo atraves del self.\n",
        "\n",
        "# Crea una clase heredada que se llame Mascota\n",
        "class Mascota(Animal):\n",
        "\n",
        "#hacemos la clase mascota, heredada del animal.\n",
        "    # usar super(), (objeto temporal de la superclase) nos permite acceder a métodos de la clase madre\n",
        "\n",
        "    # define tres métodos asociados a Mascota\n",
        "    def __init__(self, nombre, tipo, dueño):\n",
        "\n",
        "        super().__init__(self, nombre, tipo, dueño)\n",
        "        self.nombre= nombre\n",
        "        self.tipo=tipo\n",
        "        self.dueño= dueño\n",
        "# damos los argumentos atraves del self y el inicialisador\n",
        "\n",
        "    def guees_who(nombre):\n",
        "      print(\"Yo soy sam\")\n",
        "\n",
        "    def tipo(tipo):\n",
        "      print(\"soy un gato\")\n",
        "\n",
        "    def guess_dueno(dueño):\n",
        "      print(\"mi dueño es manuel\")\n",
        "\n",
        "  #danos los atributos al nombre, tipo y dueño"
      ],
      "metadata": {
        "id": "scsnMvfv7MXN"
      },
      "execution_count": 2,
      "outputs": []
    },
    {
      "cell_type": "code",
      "source": [
        "# Crea dos clases que tengan asignados nombres de Países.\n",
        "# Para cada clase, define al menos tres características del País considerado: por ejemplo, capital, idioma, etcétera\n",
        "class Mexico():\n",
        " def __init__(self, nombre, capital, idioma):\n",
        "  print(\" clase México 1 creada\")\n",
        "  self.nombre= nombre\n",
        "  self.capital= capital\n",
        "  self.idioma= idioma\n",
        " def nombre(self):\n",
        "  return self.nombre + \"México\"\n",
        " def capital(self):\n",
        "  return self.capital + \"CDMX\"\n",
        " def idioma(self ):\n",
        "  return self.idioma + \"Español\"\n",
        "\n",
        "class Espana():\n",
        " def __init__(self, nombre, capital, idioma):\n",
        "  print(\" clase Espana 1 creada\")\n",
        "  self.nombre= nombre\n",
        "  self.capital= capital\n",
        "  self.idioma= idioma\n",
        " def nombre(self):\n",
        "  return self.nombre + \"España\"\n",
        " def capital(self):\n",
        "  return self.capital + \"Madrid\"\n",
        " def idioma(self ):\n",
        "  return self.idioma + \"Español\"\n",
        "\n",
        "# Define dos variables que sean cursores\n",
        "\n",
        "var1= Mexico(\"México\", \"CDMX\", \"Español\")\n",
        "var2= Espana(\"España\", \"Madrid\", \"Español\")\n",
        "for pais in (var1, var2):\n",
        "    print((pais.nombre))\n",
        "    print((pais.capital))\n",
        "    print((pais.idioma))\n",
        "    print((pais))\n",
        "    print(type(pais.nombre))\n",
        "    print(type(pais.capital))\n",
        "    print(type(pais.idioma))\n",
        "    print(type(pais))\n",
        "\n",
        "\n",
        "\n",
        "\n",
        "# Comenta tus resultados\n",
        "# Los resultados nos dan el nombre, capital e idioma de los dos paises funcionando México como var 1 y España como var2, con el type nos dan el tipo de variable que son, todas string."
      ],
      "metadata": {
        "id": "ZielRh0TBBEv",
        "colab": {
          "base_uri": "https://localhost:8080/"
        },
        "outputId": "b0096e42-8812-4f5c-fcf8-6121d0ce90fd"
      },
      "execution_count": 3,
      "outputs": [
        {
          "output_type": "stream",
          "name": "stdout",
          "text": [
            " clase México 1 creada\n",
            " clase Espana 1 creada\n",
            "México\n",
            "CDMX\n",
            "Español\n",
            "<__main__.Mexico object at 0x788b1d9652a0>\n",
            "<class 'str'>\n",
            "<class 'str'>\n",
            "<class 'str'>\n",
            "<class '__main__.Mexico'>\n",
            "España\n",
            "Madrid\n",
            "Español\n",
            "<__main__.Espana object at 0x788b1d9643d0>\n",
            "<class 'str'>\n",
            "<class 'str'>\n",
            "<class 'str'>\n",
            "<class '__main__.Espana'>\n"
          ]
        }
      ]
    },
    {
      "cell_type": "code",
      "execution_count": 4,
      "metadata": {
        "id": "3d4VtN9D7FWB",
        "colab": {
          "base_uri": "https://localhost:8080/",
          "height": 105
        },
        "outputId": "f50932cf-9db2-46d9-9d02-ff0df377df02"
      },
      "outputs": [
        {
          "output_type": "stream",
          "name": "stdout",
          "text": [
            "Área del círculo: 201.06192982974676\n",
            "Perímetro del círculo: 50.26548245743669\n",
            "Área del cuadrado: 36\n",
            "Perímetro del cuadrado: 24\n"
          ]
        },
        {
          "output_type": "execute_result",
          "data": {
            "text/plain": [
              "'Escibe aquí tu código'"
            ],
            "application/vnd.google.colaboratory.intrinsic+json": {
              "type": "string"
            }
          },
          "metadata": {},
          "execution_count": 4
        }
      ],
      "source": [
        "## Ejemplo de polimorfismo de clase y herencia.\n",
        "\n",
        "# Crea una clase madre que se llame Forma\n",
        "\n",
        "# Crea dos clases heredadas de la clase madre Forma que calcule el área y el perímetro de un círculo\n",
        "# y de un cuadrado, respectivamente.\n",
        "\n",
        "import math\n",
        "# Clase madre \"Forma\"\n",
        "class Forma:\n",
        "    def area(self):\n",
        "        pass\n",
        "    def perimetro(self):\n",
        "        pass\n",
        "\n",
        "# Clase hija \"Circulo\" que hereda de \"Forma\"\n",
        "class Circulo(Forma):\n",
        "    def __init__(self, radio):\n",
        "        self.radio = radio\n",
        "    def area(self):\n",
        "        return math.pi * self.radio ** 2\n",
        "    def perimetro(self):\n",
        "        return 2 * math.pi * self.radio\n",
        "\n",
        "# Clase hija \"Cuadrado\" que hereda de \"Forma\"\n",
        "class Cuadrado(Forma):\n",
        "    def __init__(self, lado):\n",
        "        self.lado = lado\n",
        "    def area(self):\n",
        "        return self.lado ** 2\n",
        "    def perimetro(self):\n",
        "        return 4 * self.lado\n",
        "\n",
        "# Creación de objetos de las clases hijas\n",
        "circulo = Circulo(8)\n",
        "cuadrado = Cuadrado(6)\n",
        "\n",
        "# Cálculo de área y perímetro utilizando el polimorfismo\n",
        "print(f\"Área del círculo: {circulo.area()}\")\n",
        "print(f\"Perímetro del círculo: {circulo.perimetro()}\")\n",
        "print(f\"Área del cuadrado: {cuadrado.area()}\")\n",
        "print(f\"Perímetro del cuadrado: {cuadrado.perimetro()}\")\n",
        "\n",
        "\"Escibe aquí tu código\"\n",
        "\n"
      ]
    }
  ]
}